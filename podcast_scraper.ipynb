{
 "cells": [
  {
   "cell_type": "code",
   "execution_count": 1,
   "metadata": {},
   "outputs": [],
   "source": [
    "'''\n",
    "Scrapy shell Xpath testing command:\n",
    "\n",
    "\n",
    "scrapy shell -s USER_AGENT=\"Mozilla/5.0 (Macintosh; Intel Mac OS X 10_15_7) AppleWebKit/537.36 (KHTML, like Gecko) Chrome/88.0.4324.96 Safari/537.36\" \"https://www.chartable.com/charts/spotify/united-states-of-america-top-podcasts\" \n",
    "\n",
    "'''\n",
    "from selenium import webdriver\n",
    "from selenium.webdriver.common.by import By\n",
    "from selenium.webdriver.support.ui import WebDriverWait\n",
    "from selenium.webdriver.support import expected_conditions as EC\n",
    "import time\n",
    "import re\n",
    "import csv\n",
    "from datetime import date\n",
    "import getpass"
   ]
  },
  {
   "cell_type": "code",
   "execution_count": 2,
   "metadata": {},
   "outputs": [],
   "source": [
    "#Add User agent to scrape the site\n",
    "from selenium.webdriver.chrome.options import Options\n",
    "opts = Options()\n",
    "opts.add_argument(\"user-agent=Mozilla/5.0 (Macintosh; Intel Mac OS X 10_15_7) AppleWebKit/537.36 (KHTML, like Gecko) Chrome/88.0.4324.96 Safari/537.36\" \n",
    ")"
   ]
  },
  {
   "cell_type": "code",
   "execution_count": 3,
   "metadata": {},
   "outputs": [],
   "source": [
    "from configparser import ConfigParser\n",
    "cfg = ConfigParser(interpolation=None) \n",
    "cfg.read('conf.ini')\n",
    "login_conf = cfg['chartable']\n",
    "user_email = login_conf['email'] \n",
    "passwd = login_conf['passwd']"
   ]
  },
  {
   "cell_type": "code",
   "execution_count": 4,
   "metadata": {},
   "outputs": [],
   "source": [
    "# Login to Chartable\n",
    "\n",
    "\n",
    "driver = webdriver.Chrome(options=opts)\n",
    "driver.get('https://www.chartable.com/sign_in')\n",
    "\n",
    "email = driver.find_element_by_id('Email')\n",
    "\n",
    "password = driver.find_element_by_id('Password')\n",
    "\n",
    "email.send_keys(user_email)\n",
    "password.send_keys(passwd)\n",
    "\n",
    "driver.find_element_by_name('commit').click()\n",
    "time.sleep(10)\n",
    "driver.close()\n"
   ]
  },
  {
   "cell_type": "code",
   "execution_count": 5,
   "metadata": {},
   "outputs": [
    {
     "name": "stdout",
     "output_type": "stream",
     "text": [
      "50\n"
     ]
    }
   ],
   "source": [
    "#Test scraping main page, no login needed\n",
    "driver = webdriver.Chrome(options=opts)\n",
    "driver.get('https://www.chartable.com/charts/spotify/united-states-of-america-top-podcasts')\n",
    "\n",
    "wait_rows =WebDriverWait(driver, 10)\n",
    "\n",
    "podcast_dict = {}\n",
    "rows = driver.find_elements_by_xpath('//tr/td[@class = \"pv2 ph1\"]')\n",
    "print(len(rows))\n",
    "\n",
    "\n",
    "ranks_elems = driver.find_elements_by_xpath('//div[@class = \"b header-font f2 tc\"]')\n",
    "ranks = [int(rank.text) for rank in ranks_elems]\n",
    "# names_elems = driver.find_elements_by_xpath('//div[contains(@class,\"title\")]/a')\n",
    "# names = [elem.text for elem in names_elems]\n",
    "for row in rows:\n",
    "    network_patterns = ['//a','//div']\n",
    "    for pattern in network_patterns:\n",
    "        network = row.find_element_by_xpath(pattern).text\n",
    "        if pattern:\n",
    "            podcast_dict['network'] = network\n",
    "            break\n",
    "        if not pattern:\n",
    "            podcast_dict['network'] = 'Unaffiliated'\n",
    "    \n",
    "            \n",
    "            \n",
    "    name = row.find_element_by_xpath('//div[contains(@class,\"title\")]/a').text\n",
    "    podcast_dict['name'] = name\n",
    "    url = row.find_element_by_xpath('//tr/td/div[contains(@class,\"title\")]/a').get_attribute('href')\n",
    "    if url:\n",
    "        podcast_dict['url'] = url\n",
    "    else:\n",
    "        podcast_dict['url'] = None\n",
    "    \n",
    "driver.get(url)\n",
    "                                                           \n",
    "                                                           \n",
    "\n",
    "\n",
    "driver.close()"
   ]
  },
  {
   "cell_type": "code",
   "execution_count": 62,
   "metadata": {},
   "outputs": [
    {
     "data": {
      "text/plain": [
       "{'network': '',\n",
       " 'name': 'The Joe Rogan Experience',\n",
       " 'url': 'https://chartable.com/podcasts/the-joe-rogan-experience'}"
      ]
     },
     "execution_count": 62,
     "metadata": {},
     "output_type": "execute_result"
    }
   ],
   "source": [
    "#time.sleep(5)\n",
    "podcast_dict"
   ]
  },
  {
   "cell_type": "code",
   "execution_count": 15,
   "metadata": {},
   "outputs": [
    {
     "data": {
      "text/plain": [
       "50"
      ]
     },
     "execution_count": 15,
     "metadata": {},
     "output_type": "execute_result"
    }
   ],
   "source": [
    "len(ranks)"
   ]
  },
  {
   "cell_type": "code",
   "execution_count": 60,
   "metadata": {},
   "outputs": [
    {
     "data": {
      "text/plain": [
       "'The Joe Rogan Experience'"
      ]
     },
     "execution_count": 60,
     "metadata": {},
     "output_type": "execute_result"
    }
   ],
   "source": [
    "podcast_dict['name']"
   ]
  },
  {
   "cell_type": "code",
   "execution_count": 59,
   "metadata": {},
   "outputs": [
    {
     "data": {
      "text/plain": [
       "{'network': '',\n",
       " 'name': 'The Joe Rogan Experience',\n",
       " 'url': 'https://chartable.com/podcasts/the-joe-rogan-experience'}"
      ]
     },
     "execution_count": 59,
     "metadata": {},
     "output_type": "execute_result"
    }
   ],
   "source": [
    "podcast_dict"
   ]
  },
  {
   "cell_type": "code",
   "execution_count": 78,
   "metadata": {},
   "outputs": [],
   "source": [
    "driver.close()"
   ]
  },
  {
   "cell_type": "code",
   "execution_count": 6,
   "metadata": {},
   "outputs": [],
   "source": [
    "csv_file = open('spotify_podcasts.csv','w')\n",
    "\n",
    "writer.writerow()"
   ]
  },
  {
   "cell_type": "code",
   "execution_count": 15,
   "metadata": {},
   "outputs": [
    {
     "ename": "NameError",
     "evalue": "name 'response' is not defined",
     "output_type": "error",
     "traceback": [
      "\u001b[0;31m---------------------------------------------------------------------------\u001b[0m",
      "\u001b[0;31mNameError\u001b[0m                                 Traceback (most recent call last)",
      "\u001b[0;32m<ipython-input-15-a95519e0b448>\u001b[0m in \u001b[0;36m<module>\u001b[0;34m()\u001b[0m\n\u001b[1;32m      1\u001b[0m \u001b[0;31m#1st genre xpath\u001b[0m\u001b[0;34m\u001b[0m\u001b[0;34m\u001b[0m\u001b[0m\n\u001b[0;32m----> 2\u001b[0;31m \u001b[0mresponse\u001b[0m\u001b[0;34m.\u001b[0m\u001b[0mxpath\u001b[0m\u001b[0;34m(\u001b[0m\u001b[0;34m'/html/body/div[1]/div[2]/div[2]/div/div[2]/div[11]/a/text()'\u001b[0m\u001b[0;34m)\u001b[0m\u001b[0;34m.\u001b[0m\u001b[0mextract_first\u001b[0m\u001b[0;34m(\u001b[0m\u001b[0;34m)\u001b[0m\u001b[0;34m\u001b[0m\u001b[0m\n\u001b[0m\u001b[1;32m      3\u001b[0m \u001b[0;34m\u001b[0m\u001b[0m\n\u001b[1;32m      4\u001b[0m \u001b[0;34m\u001b[0m\u001b[0m\n\u001b[1;32m      5\u001b[0m \u001b[0;31m#stars and num_ratings\u001b[0m\u001b[0;34m\u001b[0m\u001b[0;34m\u001b[0m\u001b[0m\n",
      "\u001b[0;31mNameError\u001b[0m: name 'response' is not defined"
     ]
    }
   ],
   "source": [
    "#1st genre xpath\n",
    "response.xpath('//div[1]/div[2]/div[2]/div/div[2]/div[11]/a/text()').extract_first()\n",
    "\n",
    "#names\n",
    "response.xpath('//div[contains(@class,\"title\")]//text()').extract()\n",
    "\n",
    "\n",
    "\n",
    "\n",
    "#stars and num_ratings\n",
    "stars, ratings = response.xpath('//div[@class = \"gray\"]/text()').extract_first().split(' stars from ')"
   ]
  },
  {
   "cell_type": "code",
   "execution_count": 16,
   "metadata": {},
   "outputs": [
    {
     "ename": "NameError",
     "evalue": "name 'ratings' is not defined",
     "output_type": "error",
     "traceback": [
      "\u001b[0;31m---------------------------------------------------------------------------\u001b[0m",
      "\u001b[0;31mNameError\u001b[0m                                 Traceback (most recent call last)",
      "\u001b[0;32m<ipython-input-16-b961392c47f3>\u001b[0m in \u001b[0;36m<module>\u001b[0;34m()\u001b[0m\n\u001b[0;32m----> 1\u001b[0;31m \u001b[0mratings\u001b[0m \u001b[0;34m=\u001b[0m \u001b[0mratings\u001b[0m\u001b[0;34m.\u001b[0m\u001b[0mreplace\u001b[0m\u001b[0;34m(\u001b[0m\u001b[0;34m','\u001b[0m\u001b[0;34m)\u001b[0m\u001b[0;34m\u001b[0m\u001b[0m\n\u001b[0m",
      "\u001b[0;31mNameError\u001b[0m: name 'ratings' is not defined"
     ]
    }
   ],
   "source": [
    "ratings = ratings.replace(',')\n",
    "ratings = re.findall('\\d')\n",
    "ratings = int(re.findall('\\d+',ratings)[0])\n",
    "stars = float(stars)\n",
    "\n",
    "#Xpath for within each podcast\n",
    "agency = response.xpath('//a[@class = \"link no-underline silver\"]/text()').extract_first()\n",
    "\n",
    "platform_list = response.xpath('//td[@class = \"pv2 ph1\"]//a/text()').extract()\n",
    "\n",
    "rank = int(response.xpath('//div[@class = \"b header-font f2 tc\"]/text()').extract_first())\n"
   ]
  },
  {
   "cell_type": "code",
   "execution_count": 5,
   "metadata": {},
   "outputs": [],
   "source": [
    "podcast_urls = response.xpath('//tr/td/div[contains(@class,\"title\")]/a/@href').extract()"
   ]
  },
  {
   "cell_type": "code",
   "execution_count": 3,
   "metadata": {},
   "outputs": [
    {
     "data": {
      "text/plain": [
       "79"
      ]
     },
     "execution_count": 3,
     "metadata": {},
     "output_type": "execute_result"
    }
   ],
   "source": [
    "len(test)"
   ]
  },
  {
   "cell_type": "code",
   "execution_count": 4,
   "metadata": {},
   "outputs": [
    {
     "data": {
      "text/plain": [
       "['Joe Rogan',\n",
       " 'The New York Times',\n",
       " 'audiochuck',\n",
       " 'NPR',\n",
       " 'NPR',\n",
       " 'The Last Podcast Network',\n",
       " 'Call Her Daddy',\n",
       " 'Morbid: A True Crime Podcast',\n",
       " 'Unlocking Us with Brené Brown',\n",
       " 'The Journal.',\n",
       " 'Stuff You Should Know',\n",
       " 'Armchair Umbrella',\n",
       " 'Deep Sleep Sounds',\n",
       " 'The Ben Shapiro Show',\n",
       " 'Pardon My Take',\n",
       " 'Office Ladies',\n",
       " 'Pod Save America',\n",
       " 'Serial Killers',\n",
       " 'Supernatural with Ashley Flowers',\n",
       " 'TED Talks Daily',\n",
       " 'NBC News',\n",
       " 'The Misfits Podcast',\n",
       " 'Reply All',\n",
       " 'Conspiracy Theories',\n",
       " 'Team Coco & Earwolf',\n",
       " 'The Ringer & Bill Simmons',\n",
       " 'Sol Good Sounds',\n",
       " 'My Brother, My Brother And Me',\n",
       " 'BBC Minute',\n",
       " 'NPR',\n",
       " 'NPR',\n",
       " \"Tmsoft's White Noise Sleep Sounds\",\n",
       " 'Anything Goes with Emma Chamberlain',\n",
       " 'Cancer Today',\n",
       " 'NPR',\n",
       " 'Parcast Network',\n",
       " 'Consider This from NPR',\n",
       " 'Parcast Network',\n",
       " \"You're Wrong About\",\n",
       " 'Today, Explained']"
      ]
     },
     "execution_count": 4,
     "metadata": {},
     "output_type": "execute_result"
    }
   ],
   "source": [
    "networks = row.xpath('//td/a/text()').extract()"
   ]
  },
  {
   "cell_type": "code",
   "execution_count": null,
   "metadata": {},
   "outputs": [],
   "source": [
    "test = response.xpath('//tr[@class = \"striped--near-white\"]//text()').extract()\n",
    "filtered = filter(lambda L: L != '\\n',rows)\n",
    "list(filtered)"
   ]
  },
  {
   "cell_type": "code",
   "execution_count": null,
   "metadata": {},
   "outputs": [],
   "source": [
    "str.s"
   ]
  },
  {
   "cell_type": "code",
   "execution_count": null,
   "metadata": {},
   "outputs": [],
   "source": []
  },
  {
   "cell_type": "code",
   "execution_count": null,
   "metadata": {},
   "outputs": [],
   "source": []
  },
  {
   "cell_type": "code",
   "execution_count": 2,
   "metadata": {},
   "outputs": [],
   "source": [
    "def list_unpacking(df,colname):\n",
    "    '''\n",
    "    Unpacks list in a dataframe to add additional rows.\n",
    "\n",
    "    Args:\n",
    "\n",
    "    df: pandas DataFrame\n",
    "    colname: str, name of the column to unpack nested list\n",
    "\n",
    "    Returns:\n",
    "    pandas DataFrame of index and genres to be used with pd.merge'''    \n",
    "    index=0\n",
    "    # save [index, colname] in a nested list\n",
    "    list_ = []\n",
    "    for item in df[colname]:\n",
    "        list_.extend(map(lambda x: [index, x], item))\n",
    "        index += 1\n",
    "    new_df = pd.DataFrame(list_, columns=['index', colname + 's'])\n",
    "    return new_df"
   ]
  },
  {
   "cell_type": "code",
   "execution_count": null,
   "metadata": {},
   "outputs": [],
   "source": [
    "df_genre = pd.merge(df_genre.drop('genres', axis=1), genre, how='right', left_index=True, right_on='index')\n",
    "df_genre.head()"
   ]
  },
  {
   "cell_type": "code",
   "execution_count": 1,
   "metadata": {},
   "outputs": [
    {
     "data": {
      "text/plain": [
       "['__add__',\n",
       " '__class__',\n",
       " '__contains__',\n",
       " '__delattr__',\n",
       " '__delitem__',\n",
       " '__dir__',\n",
       " '__doc__',\n",
       " '__eq__',\n",
       " '__format__',\n",
       " '__ge__',\n",
       " '__getattribute__',\n",
       " '__getitem__',\n",
       " '__gt__',\n",
       " '__hash__',\n",
       " '__iadd__',\n",
       " '__imul__',\n",
       " '__init__',\n",
       " '__init_subclass__',\n",
       " '__iter__',\n",
       " '__le__',\n",
       " '__len__',\n",
       " '__lt__',\n",
       " '__mul__',\n",
       " '__ne__',\n",
       " '__new__',\n",
       " '__reduce__',\n",
       " '__reduce_ex__',\n",
       " '__repr__',\n",
       " '__reversed__',\n",
       " '__rmul__',\n",
       " '__setattr__',\n",
       " '__setitem__',\n",
       " '__sizeof__',\n",
       " '__str__',\n",
       " '__subclasshook__',\n",
       " 'append',\n",
       " 'clear',\n",
       " 'copy',\n",
       " 'count',\n",
       " 'extend',\n",
       " 'index',\n",
       " 'insert',\n",
       " 'pop',\n",
       " 'remove',\n",
       " 'reverse',\n",
       " 'sort']"
      ]
     },
     "execution_count": 1,
     "metadata": {},
     "output_type": "execute_result"
    }
   ],
   "source": [
    "dir(list)"
   ]
  },
  {
   "cell_type": "code",
   "execution_count": null,
   "metadata": {},
   "outputs": [],
   "source": [
    "# The movie title could be of different styles so we need to provide all the possibilities.\n",
    "patterns = ['./td[1]/i/a/text()', './td[1]/i/b/a/text()', './td[1]/i/span[2]//text()', './td[1]/i/b/span/text()']"
   ]
  },
  {
   "cell_type": "code",
   "execution_count": null,
   "metadata": {},
   "outputs": [],
   "source": []
  },
  {
   "cell_type": "code",
   "execution_count": null,
   "metadata": {},
   "outputs": [],
   "source": []
  },
  {
   "cell_type": "code",
   "execution_count": null,
   "metadata": {},
   "outputs": [],
   "source": [
    "episodes = response.xpath('//div[@class = \"mb4\"]')\n",
    "episode_date = response.xpath('//div[@class = \"mt2 f6 light-silver\"]')"
   ]
  },
  {
   "cell_type": "code",
   "execution_count": null,
   "metadata": {},
   "outputs": [],
   "source": []
  },
  {
   "cell_type": "code",
   "execution_count": null,
   "metadata": {},
   "outputs": [],
   "source": []
  },
  {
   "cell_type": "code",
   "execution_count": null,
   "metadata": {},
   "outputs": [],
   "source": []
  },
  {
   "cell_type": "markdown",
   "metadata": {},
   "source": [
    "### Working on getting names"
   ]
  },
  {
   "cell_type": "code",
   "execution_count": null,
   "metadata": {},
   "outputs": [],
   "source": [
    "\n",
    "wait_ranks =WebDriverWait(driver, 10)\n",
    "podcast_dict = {}\n",
    "ranks = wait_ranks.until(EC.presence_of_all_elements_located((By.XPATH,'//div[@class = \"b header-font f2 tc\"]')))\n",
    "for rank in ranks:\n",
    "    num_rank = review.find_element_by_xpath('//div[@class = \"b header-font f2 tc\"]').text\n",
    "    podcast_dict['rank'] = num_rank"
   ]
  },
  {
   "cell_type": "code",
   "execution_count": null,
   "metadata": {},
   "outputs": [],
   "source": []
  }
 ],
 "metadata": {
  "kernelspec": {
   "display_name": "Python 3",
   "language": "python",
   "name": "python3"
  },
  "language_info": {
   "codemirror_mode": {
    "name": "ipython",
    "version": 3
   },
   "file_extension": ".py",
   "mimetype": "text/x-python",
   "name": "python",
   "nbconvert_exporter": "python",
   "pygments_lexer": "ipython3",
   "version": "3.7.0"
  }
 },
 "nbformat": 4,
 "nbformat_minor": 2
}
